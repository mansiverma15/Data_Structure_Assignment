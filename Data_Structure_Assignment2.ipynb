{
  "nbformat": 4,
  "nbformat_minor": 0,
  "metadata": {
    "colab": {
      "provenance": []
    },
    "kernelspec": {
      "name": "python3",
      "display_name": "Python 3"
    },
    "language_info": {
      "name": "python"
    }
  },
  "cells": [
    {
      "cell_type": "markdown",
      "source": [
        "#Data Types and Structures Questions"
      ],
      "metadata": {
        "id": "WvvNS_d1ouZG"
      }
    },
    {
      "cell_type": "markdown",
      "source": [
        "1) What are data structures, and why are they important?\n",
        " - Data structures are ways to organize and store data efficiently for easy access and modification. They include lists, tuples, dictionaries, sets, stacks, queues, and trees in Python. Proper use of data structures improves performance, memory efficiency, and code readability. They are crucial for searching, sorting, and managing large datasets in applications like databases, AI, and web development. Choosing the right data structure optimizes algorithms and enhances problem-solving efficiency.\n",
        "\n",
        "\n",
        "2) Explain the difference between mutable and immutable data types with examples.\n",
        " - In Python, mutable data types can be modified after creation, while immutable data types cannot be changed once assigned. Lists, dictionaries, and sets are mutable, allowing modification using methods like .append() or .update(). In contrast, strings, tuples, and integers are immutable, meaning any modification creates a new object instead of changing the existing one. For example, modifying a list (my_list = [1, 2]; my_list.append(3)) updates it in place, whereas modifying a string (name = \"John\"; name += \"ny\") creates a new string \"Johnny\". This distinction helps manage memory and ensures data integrity in Python programs.\n",
        "\n",
        "\n",
        "3) What are the main differences between lists and tuples in Python?\n",
        " - Lists:\n",
        "A list in Python is a mutable ordered collection that allows modification, such as adding, removing, or changing elements. It is defined using square brackets [], e.g., my_list = [1, 2, 3]. Lists provide flexibility with methods like .append(), .remove(), and .sort(), making them useful for dynamic data handling. However, lists are slower than tuples due to their mutability and higher memory usage.\n",
        "\n",
        " Tuples:\n",
        "A tuple is an immutable ordered collection, meaning its elements cannot be modified after creation. It is defined using parentheses (), e.g., my_tuple = (1, 2, 3). Tuples are faster and more memory-efficient than lists, making them ideal for storing fixed data. Since they are immutable, they provide better data integrity and can be used as dictionary keys, unlike lists.\n",
        "\n",
        "\n",
        "\n",
        "4) Describe how dictionaries store data.\n",
        " - Dictionaries in Python store data as key-value pairs, where each unique key maps to a specific value. They use a hashing mechanism, allowing fast lookups, insertions, and deletions. Defined using {}, e.g., my_dict = {\"name\": \"Alice\", \"age\": 25}, they provide efficient O(1) average-time complexity for key-based access. Since keys must be immutable (e.g., strings, numbers, tuples), dictionaries ensure reliable and fast data retrieval.\n",
        "\n",
        "\n",
        "5) Why might you use a set instead of a list in Python?\n",
        " - A set in Python is used instead of a list when you need unique elements and faster lookups. Unlike lists, sets do not allow duplicates and offer O(1) average-time complexity for searches due to their hashing mechanism. They are ideal for operations like finding unique values, set operations (union, intersection, difference), and membership testing. However, sets are unordered, so they cannot maintain the sequence of elements like lists do.\n",
        "\n",
        "\n",
        "6) What is a string in Python, and how is it different from a list?\n",
        " - A string in Python is a sequence of characters enclosed in quotes, such as \"hello\" or 'Python'. Strings are immutable, meaning their contents cannot be changed after creation. In contrast, a list is a collection of elements (e.g., [1, 2, 3]) that is mutable, allowing modifications like adding or removing items. Strings are optimized for text processing, while lists are more general-purpose and can store multiple data types. Unlike lists, strings do not support item assignment (s[0] = 'H' causes an error), but lists do. Strings provide many built-in methods for text manipulation, such as .upper(), .split(), and .replace().\n",
        "\n",
        "\n",
        "7) How do tuples ensure data integrity in Python?\n",
        " - Tuples in Python ensure data integrity by being immutable, meaning once they are created, their elements cannot be changed. This prevents accidental modifications or errors in data that might occur if the data were mutable, such as in a list. Their immutability also makes them hashable, allowing them to be used as keys in dictionaries or elements in sets, ensuring consistency across different data structures. Since the data cannot be altered, tuples are ideal for storing fixed collections where integrity is crucial. Additionally, the immutability provides thread safety, ensuring the data remains unchanged across multiple processes. Tuples are efficient in terms of memory and speed, further enhancing their reliability.\n",
        "\n",
        "\n",
        "8) What is a hash table, and how does it relate to dictionaries in Python?\n",
        " - A hash table is a data structure that stores key-value pairs, using a hash function to map keys to specific locations (buckets) in memory, ensuring fast access. In Python, dictionaries are implemented using hash tables, enabling constant-time average complexity for lookups, insertions, and deletions. Each key in a dictionary is hashed to find its associated value, allowing for efficient and quick retrieval. The hash function ensures that even with large datasets, dictionary operations remain fast. However, keys in a dictionary must be immutable (e.g., strings, numbers, tuples) so they can be reliably hashed. Hash tables are the underlying mechanism that makes Python dictionaries both efficient and flexible.\n",
        "\n",
        "\n",
        "9) Can lists contain different data types in Python?\n",
        " - Yes, lists in Python can contain different data types. A list is an ordered collection that can hold a mix of integers, strings, floats, other lists, and even dictionaries. For example, a list can look like this: my_list = [1, \"hello\", 3.14, [2, 3], {\"key\": \"value\"}]. Lists are flexible and allow for heterogeneous elements, making them suitable for storing diverse data within a single structure. Despite their flexibility, lists retain the order of elements and allow for indexing, slicing, and iteration. This makes lists versatile for a variety of use cases in Python.\n",
        "\n",
        "\n",
        "10) Explain why strings are immutable in Python.\n",
        " - Strings are immutable in Python to ensure data integrity and performance. Since strings are frequently used and often passed between functions, immutability guarantees that their contents cannot be changed unexpectedly, preventing errors. This design allows Python to optimize memory usage by reusing string objects rather than creating new ones each time a string is modified. The immutability also makes strings hashable, meaning they can be used as keys in dictionaries and elements in sets. Furthermore, immutability enables thread safety, ensuring that string data is not accidentally altered in concurrent environments. Overall, immutability enhances Python's efficiency and reliability when handling strings.\n",
        "\n",
        "\n",
        "11) What advantages do dictionaries offer over lists for certain tasks?\n",
        " - Dictionaries offer several advantages over lists, especially for tasks involving key-value mapping and fast lookups. In dictionaries, you can access values using a key, which provides O(1) average-time complexity for search, insertion, and deletion operations, making them much faster than lists for these tasks. Lists, on the other hand, require linear time for searching by value. Dictionaries also enforce unique keys, preventing duplicates, whereas lists allow multiple occurrences of the same item. Moreover, dictionaries provide more flexible data organization, allowing the association of complex data to meaningful keys, whereas lists are ordered but not as efficient for mapping tasks.\n",
        "\n",
        "\n",
        "12) Describe a scenario where using a tuple would be preferable over a list.\n",
        " - A tuple would be preferable over a list in a scenario where data integrity is important, and the collection of elements should not be altered. For example, when storing coordinates (latitude, longitude) for locations, you might use a tuple because the data should remain unchanged after it is set. Tuples are also ideal for storing constant values in a program, like configuration settings. Since tuples are faster and more memory-efficient than lists, they are suitable when you need a fixed, immutable sequence of data, ensuring the integrity of your program. Additionally, tuples can be used as keys in dictionaries, while lists cannot.\n",
        "\n",
        "\n",
        "13) How do sets handle duplicate values in Python?\n",
        " - In Python, sets automatically remove duplicate values. When you try to add a duplicate element to a set, it simply ignores the addition and does not change the set. This is because sets enforce unique elements. For example, if you attempt to add {1, 2, 3} to a set that already contains {1, 2, 3}, the set will remain unchanged. This behavior ensures that a set only contains one instance of each element, making it ideal for tasks like finding unique values. Sets do not allow duplicates, which can be beneficial for membership testing and set operations like union and intersection.\n",
        "\n",
        "\n",
        "14) How does the “in” keyword work differently for lists and dictionaries?\n",
        " - In Python, the in keyword works differently for lists and dictionaries:\n",
        "\n",
        " For lists, in checks if the value exists in the list. It returns True if the value is found, otherwise False. Example: 3 in [1, 2, 3] returns True.\n",
        "\n",
        " For dictionaries, in checks if the key exists in the dictionary. It returns True if the key is found, otherwise False. Example: \"name\" in {\"name\": \"Alice\"} returns True.\n",
        "\n",
        " In dictionaries, the in operator does not check for values unless explicitly told to, only for keys.\n",
        "\n",
        "\n",
        "15) Can you modify the elements of a tuple? Explain why or why not.\n",
        " - No, you cannot modify the elements of a tuple in Python because tuples are immutable. Once a tuple is created, its contents cannot be changed, which means you cannot add, remove, or modify individual elements. This immutability is designed to ensure that the data stored in a tuple remains consistent and protected from accidental changes. However, you can create a new tuple by concatenating or slicing existing ones. This immutability also makes tuples hashable, allowing them to be used as keys in dictionaries. It provides better performance and data integrity compared to mutable data structures like lists.\n",
        "\n",
        "\n",
        "16) What is a nested dictionary, and give an example of its use case?\n",
        " - A nested dictionary in Python is a dictionary where the values are themselves dictionaries. This allows for the representation of more complex, hierarchical data structures. For example, you could use a nested dictionary to store details about multiple students, where each student has a dictionary containing their age and grades.\n",
        "\n",
        " Example:\n",
        " students = {\n",
        "    \"Alice\": {\"age\": 25, \"grades\": [85, 90, 92]},\n",
        "    \"Bob\": {\"age\": 23, \"grades\": [78, 82, 88]},\n",
        " }\n",
        "\n",
        " Use case:\n",
        " This structure is useful for representing hierarchical data, like student records or employee details, where each key (e.g., student name) points to a dictionary containing specific attributes (e.g., age, grades). You can access a student's information like this:\n",
        " print(students[\"Alice\"][\"grades\"])  # Output: [85, 90, 92]\n",
        "\n",
        " This makes nested dictionaries ideal for handling complex data in a structured way.\n",
        "\n",
        "\n",
        "\n",
        "17) Describe the time complexity of accessing elements in a dictionary.\n",
        " - Accessing elements in a dictionary in Python typically has a time complexity of O(1) on average. This means that it takes constant time to retrieve the value associated with a key, regardless of the size of the dictionary. Python dictionaries use a hash table under the hood, which allows for quick lookups by directly mapping keys to their corresponding values. However, in the worst case (e.g., hash collisions), the time complexity could degrade to O(n), but such cases are rare. As a result, dictionaries are highly efficient for operations like searching, adding, or removing key-value pairs.\n",
        "\n",
        "\n",
        "18) In what situations are lists preferred over dictionaries?\n",
        " - Lists are preferred over dictionaries when the data is ordered and you need to maintain the sequence of elements. They are ideal for tasks where you need to store multiple values of the same type, like a list of names or numbers. Lists are also better when you need to access elements by index rather than by key. Use lists when lookup by value is not required, and you don’t need the overhead of keys.\n",
        "\n",
        "\n",
        "19) Why are dictionaries considered unordered, and how does that affect data retrieval?\n",
        " - Dictionaries in Python are considered unordered because the keys are stored in an internal hash table, and the order of insertion is not guaranteed in older versions (pre-Python 3.7). However, starting from Python 3.7, dictionaries preserve the insertion order, meaning that while they are still based on hash tables, they maintain the order in which items were added. This affects data retrieval because you access values through keys rather than position. Since the order doesn't matter for lookup operations, retrieving data by key remains fast (O(1) on average), but the order of items cannot be relied upon unless you explicitly want to preserve it (which Python 3.7+ does).\n",
        "\n",
        "\n",
        "20) Explain the difference between a list and a dictionary in terms of data retrieval.\n",
        " - In a list, data is retrieved by its index (position in the list), and elements are accessed in a sequential manner. This means you use an integer to specify the location of an element, like my_list[2] to get the third item. In contrast, in a dictionary, data is retrieved by its key, which can be any immutable object (like strings or numbers), and there’s no need to know its position in the collection. This allows for faster lookups since dictionaries use a hashing mechanism, giving you quick access to values associated with specific keys, usually in constant time (O(1)). Lists are ideal for ordered data, while dictionaries excel at retrieving data by key.\n",
        "\n"
      ],
      "metadata": {
        "id": "DwmXcIgYo_CI"
      }
    },
    {
      "cell_type": "markdown",
      "source": [
        "#Practical Questions"
      ],
      "metadata": {
        "id": "c2vlEvNmyuT6"
      }
    },
    {
      "cell_type": "code",
      "source": [
        "#1) Write a code to create a string with your name and print it."
      ],
      "metadata": {
        "id": "NJlypFCZyte5"
      },
      "execution_count": null,
      "outputs": []
    },
    {
      "cell_type": "code",
      "source": [
        "name = \"Mansi Verma\"\n",
        "print(name)"
      ],
      "metadata": {
        "colab": {
          "base_uri": "https://localhost:8080/"
        },
        "id": "xfPDnkafzAwe",
        "outputId": "22558e6e-6cb2-46e2-9616-bef9d5201573"
      },
      "execution_count": null,
      "outputs": [
        {
          "output_type": "stream",
          "name": "stdout",
          "text": [
            "Mansi Verma\n"
          ]
        }
      ]
    },
    {
      "cell_type": "code",
      "source": [
        "#2) Write a code to find the length of the string \"Hello World\"."
      ],
      "metadata": {
        "id": "4RsbNuidy6v1"
      },
      "execution_count": null,
      "outputs": []
    },
    {
      "cell_type": "code",
      "source": [
        "len(\"Hello World\")"
      ],
      "metadata": {
        "colab": {
          "base_uri": "https://localhost:8080/"
        },
        "id": "i0XY1wfqzMtL",
        "outputId": "76cc4a21-a975-4204-b36a-7b3d9188b153"
      },
      "execution_count": null,
      "outputs": [
        {
          "output_type": "execute_result",
          "data": {
            "text/plain": [
              "11"
            ]
          },
          "metadata": {},
          "execution_count": 4
        }
      ]
    },
    {
      "cell_type": "code",
      "source": [
        "#3) Write a code to slice the first 3 characters from the string \"Python Programming\"."
      ],
      "metadata": {
        "id": "ys7E-uC3zQr9"
      },
      "execution_count": null,
      "outputs": []
    },
    {
      "cell_type": "code",
      "source": [
        "string1 = \"Python Programming\"\n",
        "string1[0:3]"
      ],
      "metadata": {
        "colab": {
          "base_uri": "https://localhost:8080/",
          "height": 36
        },
        "id": "HQPXyyKZzWuX",
        "outputId": "baebcbc4-ec4c-4002-adc2-5e26785d2b90"
      },
      "execution_count": null,
      "outputs": [
        {
          "output_type": "execute_result",
          "data": {
            "text/plain": [
              "'Pyt'"
            ],
            "application/vnd.google.colaboratory.intrinsic+json": {
              "type": "string"
            }
          },
          "metadata": {},
          "execution_count": 6
        }
      ]
    },
    {
      "cell_type": "code",
      "source": [
        "#4) Write a code to convert the string \"hello\" to uppercase."
      ],
      "metadata": {
        "id": "UZXNa_Eezcm7"
      },
      "execution_count": null,
      "outputs": []
    },
    {
      "cell_type": "code",
      "source": [
        "a = \"hello\"\n",
        "a.upper()"
      ],
      "metadata": {
        "colab": {
          "base_uri": "https://localhost:8080/",
          "height": 36
        },
        "id": "D8JX8AFxzjj7",
        "outputId": "9fcfe8f9-bc97-4213-d6e9-0fcb09073130"
      },
      "execution_count": null,
      "outputs": [
        {
          "output_type": "execute_result",
          "data": {
            "text/plain": [
              "'HELLO'"
            ],
            "application/vnd.google.colaboratory.intrinsic+json": {
              "type": "string"
            }
          },
          "metadata": {},
          "execution_count": 8
        }
      ]
    },
    {
      "cell_type": "code",
      "source": [
        "#5) Write a code to replace the word \"apple\" with \"orange\" in the string \"I like apple\"."
      ],
      "metadata": {
        "id": "MBOE71ENzrcT"
      },
      "execution_count": null,
      "outputs": []
    },
    {
      "cell_type": "code",
      "source": [
        "string2 = \"I like apple\"\n",
        "string2.replace(\"apple\", \"orange\")"
      ],
      "metadata": {
        "colab": {
          "base_uri": "https://localhost:8080/",
          "height": 36
        },
        "id": "yFlPjNCAzxhZ",
        "outputId": "249be26f-3a44-4e80-ae48-b8db85dc0656"
      },
      "execution_count": null,
      "outputs": [
        {
          "output_type": "execute_result",
          "data": {
            "text/plain": [
              "'I like orange'"
            ],
            "application/vnd.google.colaboratory.intrinsic+json": {
              "type": "string"
            }
          },
          "metadata": {},
          "execution_count": 11
        }
      ]
    },
    {
      "cell_type": "code",
      "source": [
        "#6)  Write a code to create a list with numbers 1 to 5 and print it."
      ],
      "metadata": {
        "id": "m3057IL90Bf4"
      },
      "execution_count": null,
      "outputs": []
    },
    {
      "cell_type": "code",
      "source": [
        "my_list = list(range(1, 6))\n",
        "print(my_list)"
      ],
      "metadata": {
        "colab": {
          "base_uri": "https://localhost:8080/"
        },
        "id": "L9DkIgYS1Zyv",
        "outputId": "4765db16-f144-474c-800f-e43c52925acb"
      },
      "execution_count": null,
      "outputs": [
        {
          "output_type": "stream",
          "name": "stdout",
          "text": [
            "[1, 2, 3, 4, 5]\n"
          ]
        }
      ]
    },
    {
      "cell_type": "code",
      "source": [
        "#7) Write a code to append the number 10 to the list [1, 2, 3, 4]."
      ],
      "metadata": {
        "id": "7EzNeBDYzTt9"
      },
      "execution_count": null,
      "outputs": []
    },
    {
      "cell_type": "code",
      "source": [
        "my_list = [1, 2, 3, 4]  # Define the list\n",
        "my_list.append(10)      # Append the number 10\n",
        "print(my_list)          # Print the updated list"
      ],
      "metadata": {
        "colab": {
          "base_uri": "https://localhost:8080/"
        },
        "id": "N2cq8BQNzTZS",
        "outputId": "1d7c3ad7-1864-4381-9b09-4f30625530e5"
      },
      "execution_count": 3,
      "outputs": [
        {
          "output_type": "stream",
          "name": "stdout",
          "text": [
            "[1, 2, 3, 4, 10]\n"
          ]
        }
      ]
    },
    {
      "cell_type": "code",
      "source": [
        "#8) Write a code to remove the number 3 from the list [1, 2, 3, 4, 5]."
      ],
      "metadata": {
        "id": "qHeIDHFpzhGf"
      },
      "execution_count": 4,
      "outputs": []
    },
    {
      "cell_type": "code",
      "source": [
        "my_list = [1, 2, 3, 4, 5]\n",
        "my_list.remove(3)\n",
        "print(my_list)"
      ],
      "metadata": {
        "colab": {
          "base_uri": "https://localhost:8080/"
        },
        "id": "3VxccqcqzmO_",
        "outputId": "d4a9bd51-2de8-4439-b6fe-505bfb8cc6ff"
      },
      "execution_count": 5,
      "outputs": [
        {
          "output_type": "stream",
          "name": "stdout",
          "text": [
            "[1, 2, 4, 5]\n"
          ]
        }
      ]
    },
    {
      "cell_type": "code",
      "source": [
        "#9)  Write a code to access the second element in the list ['a', 'b', 'c', 'd']."
      ],
      "metadata": {
        "id": "hRKmBLNJzxF3"
      },
      "execution_count": 6,
      "outputs": []
    },
    {
      "cell_type": "code",
      "source": [
        "my_list = ['a', 'b', 'c', 'd']\n",
        "second_element = my_list[1]\n",
        "print(second_element)"
      ],
      "metadata": {
        "colab": {
          "base_uri": "https://localhost:8080/"
        },
        "id": "rPNaESUrz_ZZ",
        "outputId": "d77d73d6-0dfc-4701-dd8e-1ae287bc0bce"
      },
      "execution_count": 7,
      "outputs": [
        {
          "output_type": "stream",
          "name": "stdout",
          "text": [
            "b\n"
          ]
        }
      ]
    },
    {
      "cell_type": "code",
      "source": [
        "#10) Write a code to reverse the list [10, 20, 30, 40, 50]."
      ],
      "metadata": {
        "id": "tr1OttSf0FcW"
      },
      "execution_count": 8,
      "outputs": []
    },
    {
      "cell_type": "code",
      "source": [
        "my_list = [10, 20, 30, 40, 50]\n",
        "my_list.reverse()\n",
        "print(my_list)"
      ],
      "metadata": {
        "colab": {
          "base_uri": "https://localhost:8080/"
        },
        "id": "GyvUyRjs0Jf1",
        "outputId": "27b7e390-2205-4edf-ec73-72de604a7612"
      },
      "execution_count": 9,
      "outputs": [
        {
          "output_type": "stream",
          "name": "stdout",
          "text": [
            "[50, 40, 30, 20, 10]\n"
          ]
        }
      ]
    },
    {
      "cell_type": "code",
      "source": [
        "#11)  Write a code to create a tuple with the elements 100, 200, 300 and print it."
      ],
      "metadata": {
        "id": "15aXSM1s0gcD"
      },
      "execution_count": 1,
      "outputs": []
    },
    {
      "cell_type": "code",
      "source": [
        "# Creating a tuple with the elements 100, 200, 300\n",
        "my_tuple = (100, 200, 300)\n",
        "# Printing the tuple\n",
        "print(my_tuple)"
      ],
      "metadata": {
        "colab": {
          "base_uri": "https://localhost:8080/"
        },
        "id": "6AVua0Qryrep",
        "outputId": "6cc3d3f4-46f0-4ebb-f4d9-d357bbf7db85"
      },
      "execution_count": 2,
      "outputs": [
        {
          "output_type": "stream",
          "name": "stdout",
          "text": [
            "(100, 200, 300)\n"
          ]
        }
      ]
    },
    {
      "cell_type": "code",
      "source": [
        "#12)  Write a code to access the second-to-last element of the tuple ('red', 'green', 'blue', 'yellow')"
      ],
      "metadata": {
        "id": "j1ZE2l-PyyVz"
      },
      "execution_count": 10,
      "outputs": []
    },
    {
      "cell_type": "code",
      "source": [
        "colors = ('red', 'green', 'blue', 'yellow')  # Define the tuple\n",
        "second_to_last = colors[-2]                  # Access the second-to-last element using negative indexing\n",
        "print(second_to_last)"
      ],
      "metadata": {
        "colab": {
          "base_uri": "https://localhost:8080/"
        },
        "id": "LS1iva5Q0k7K",
        "outputId": "6f4295a1-051a-4966-96ae-325016c758d6"
      },
      "execution_count": 11,
      "outputs": [
        {
          "output_type": "stream",
          "name": "stdout",
          "text": [
            "blue\n"
          ]
        }
      ]
    },
    {
      "cell_type": "code",
      "source": [
        "#13) Write a code to find the minimum number in the tuple (10, 20, 5, 15)."
      ],
      "metadata": {
        "id": "XMuCuiHW0lcJ"
      },
      "execution_count": 12,
      "outputs": []
    },
    {
      "cell_type": "code",
      "source": [
        "numbers = (10, 20, 5, 15)  # Define the tuple\n",
        "min_value = min(numbers)   # Find the minimum value using the min() function\n",
        "print(\"The minimum number is:\", min_value)"
      ],
      "metadata": {
        "colab": {
          "base_uri": "https://localhost:8080/"
        },
        "id": "jNlu9FfT0rES",
        "outputId": "9ee369d5-6f3e-4f98-b32d-f4bef73cb421"
      },
      "execution_count": 13,
      "outputs": [
        {
          "output_type": "stream",
          "name": "stdout",
          "text": [
            "The minimum number is: 5\n"
          ]
        }
      ]
    },
    {
      "cell_type": "code",
      "source": [
        "#14) Write a code to find the index of the element \"cat\" in the tuple ('dog', 'cat', 'rabbit')"
      ],
      "metadata": {
        "id": "fdKL6CV40w_s"
      },
      "execution_count": 14,
      "outputs": []
    },
    {
      "cell_type": "code",
      "source": [
        "animals = ('dog', 'cat', 'rabbit')  # Define the tuple\n",
        "cat_index = animals.index('cat')    # Find the index of \"cat\"\n",
        "print(\"The index of 'cat' is:\", cat_index)"
      ],
      "metadata": {
        "colab": {
          "base_uri": "https://localhost:8080/"
        },
        "id": "KQYM7xe_035a",
        "outputId": "55da37e6-0f6f-49b5-b82f-78a4daee1167"
      },
      "execution_count": 15,
      "outputs": [
        {
          "output_type": "stream",
          "name": "stdout",
          "text": [
            "The index of 'cat' is: 1\n"
          ]
        }
      ]
    },
    {
      "cell_type": "code",
      "source": [
        "#15)  Write a code to create a tuple containing three different fruits and check if \"kiwi\" is in it."
      ],
      "metadata": {
        "id": "yI_LeSEs0-xR"
      },
      "execution_count": 16,
      "outputs": []
    },
    {
      "cell_type": "code",
      "source": [
        "# Create a tuple with three fruits\n",
        "fruits = ('apple', 'banana', 'orange')\n",
        "\n",
        "# Check if \"kiwi\" is in the tuple and print the result\n",
        "if 'kiwi' in fruits:\n",
        "    print(\"Kiwi is in the tuple\")\n",
        "else:\n",
        "    print(\"Kiwi is not in the tuple\")"
      ],
      "metadata": {
        "colab": {
          "base_uri": "https://localhost:8080/"
        },
        "id": "pQjSaJUbJVva",
        "outputId": "6db9b109-b97f-4397-bdb2-d9b2bc32373f"
      },
      "execution_count": 17,
      "outputs": [
        {
          "output_type": "stream",
          "name": "stdout",
          "text": [
            "Kiwi is not in the tuple\n"
          ]
        }
      ]
    },
    {
      "cell_type": "code",
      "source": [
        "#16) Write a code to create a set with the elements 'a', 'b', 'c' and print it."
      ],
      "metadata": {
        "id": "TfuGm8cmJYbJ"
      },
      "execution_count": 18,
      "outputs": []
    },
    {
      "cell_type": "code",
      "source": [
        "# Create a set with the elements 'a', 'b', 'c'\n",
        "my_set = {'a', 'b', 'c'}\n",
        "\n",
        "# Print the set (note that the order may vary)\n",
        "print(my_set)"
      ],
      "metadata": {
        "colab": {
          "base_uri": "https://localhost:8080/"
        },
        "id": "ENNA0gXpJcYs",
        "outputId": "77d4078f-8897-4108-bdc1-28457825c52a"
      },
      "execution_count": 19,
      "outputs": [
        {
          "output_type": "stream",
          "name": "stdout",
          "text": [
            "{'c', 'b', 'a'}\n"
          ]
        }
      ]
    },
    {
      "cell_type": "code",
      "source": [
        "#17) Write a code to clear all elements from the set {1, 2, 3, 4, 5}."
      ],
      "metadata": {
        "id": "mQv7UsPJJiTe"
      },
      "execution_count": 20,
      "outputs": []
    },
    {
      "cell_type": "code",
      "source": [
        "# Create a set with elements\n",
        "my_set = {1, 2, 3, 4, 5}\n",
        "\n",
        "# Clear all elements from the set\n",
        "my_set.clear()\n",
        "\n",
        "# Print the empty set\n",
        "print(my_set)"
      ],
      "metadata": {
        "colab": {
          "base_uri": "https://localhost:8080/"
        },
        "id": "kkDgls_vJot3",
        "outputId": "b93f2ad1-0169-4082-9efb-423273cc1df6"
      },
      "execution_count": 21,
      "outputs": [
        {
          "output_type": "stream",
          "name": "stdout",
          "text": [
            "set()\n"
          ]
        }
      ]
    },
    {
      "cell_type": "code",
      "source": [
        "#18) Write a code to remove the element 4 from the set {1, 2, 3, 4}."
      ],
      "metadata": {
        "id": "u8PkgaOiJt6Z"
      },
      "execution_count": 22,
      "outputs": []
    },
    {
      "cell_type": "code",
      "source": [
        "# Create a set\n",
        "my_set = {1, 2, 3, 4}\n",
        "\n",
        "# Remove the element 4\n",
        "my_set.remove(4)  # Using remove() method\n",
        "\n",
        "# Print the updated set\n",
        "print(my_set)"
      ],
      "metadata": {
        "colab": {
          "base_uri": "https://localhost:8080/"
        },
        "id": "lj_jPXE3KBf3",
        "outputId": "6acd91a1-5f5c-46d6-8296-eda5c96cb200"
      },
      "execution_count": 23,
      "outputs": [
        {
          "output_type": "stream",
          "name": "stdout",
          "text": [
            "{1, 2, 3}\n"
          ]
        }
      ]
    },
    {
      "cell_type": "code",
      "source": [
        "#19) Write a code to find the union of two sets {1, 2, 3} and {3, 4, 5}."
      ],
      "metadata": {
        "id": "W31hdxsiKHbB"
      },
      "execution_count": 24,
      "outputs": []
    },
    {
      "cell_type": "code",
      "source": [
        "# Define two sets\n",
        "set1 = {1, 2, 3}\n",
        "set2 = {3, 4, 5}\n",
        "\n",
        "# Find the union using the union() method\n",
        "union_set = set1.union(set2)\n",
        "\n",
        "# Print the result\n",
        "print(union_set)"
      ],
      "metadata": {
        "colab": {
          "base_uri": "https://localhost:8080/"
        },
        "id": "hftqU2qaKNi6",
        "outputId": "eefc7050-1594-43c2-f048-90dcce8ae13d"
      },
      "execution_count": 25,
      "outputs": [
        {
          "output_type": "stream",
          "name": "stdout",
          "text": [
            "{1, 2, 3, 4, 5}\n"
          ]
        }
      ]
    },
    {
      "cell_type": "code",
      "source": [
        "#20) Write a code to find the intersection of two sets {1, 2, 3} and {2, 3, 4}."
      ],
      "metadata": {
        "id": "zQji9rF3KSt1"
      },
      "execution_count": 26,
      "outputs": []
    },
    {
      "cell_type": "code",
      "source": [
        "# Define two sets\n",
        "set1 = {1, 2, 3}\n",
        "set2 = {2, 3, 4}\n",
        "\n",
        "# Find the intersection using the intersection() method\n",
        "intersection_set = set1.intersection(set2)\n",
        "\n",
        "# Print the result\n",
        "print(intersection_set)"
      ],
      "metadata": {
        "colab": {
          "base_uri": "https://localhost:8080/"
        },
        "id": "SntOUyqIKYrZ",
        "outputId": "4904b2c1-add8-48d0-abca-9bae53af2f75"
      },
      "execution_count": 27,
      "outputs": [
        {
          "output_type": "stream",
          "name": "stdout",
          "text": [
            "{2, 3}\n"
          ]
        }
      ]
    },
    {
      "cell_type": "code",
      "source": [
        "#21) Write a code to create a dictionary with the keys \"name\", \"age\", and \"city\", and print it."
      ],
      "metadata": {
        "id": "qoKxKoAFKhiL"
      },
      "execution_count": 28,
      "outputs": []
    },
    {
      "cell_type": "code",
      "source": [
        "# Create a dictionary\n",
        "person = {\n",
        "    \"name\": \"Alice\",\n",
        "    \"age\": 25,\n",
        "    \"city\": \"New York\"\n",
        "}\n",
        "\n",
        "# Print the dictionary\n",
        "print(person)"
      ],
      "metadata": {
        "colab": {
          "base_uri": "https://localhost:8080/"
        },
        "id": "fcOTU5YpKoH0",
        "outputId": "a1c19ec7-e802-411a-a92a-f42bc0385049"
      },
      "execution_count": 29,
      "outputs": [
        {
          "output_type": "stream",
          "name": "stdout",
          "text": [
            "{'name': 'Alice', 'age': 25, 'city': 'New York'}\n"
          ]
        }
      ]
    },
    {
      "cell_type": "code",
      "source": [
        "#22) Write a code to add a new key-value pair \"country\": \"USA\" to the dictionary {'name': 'John', 'age': 25}"
      ],
      "metadata": {
        "id": "3lfRWKSSKsWt"
      },
      "execution_count": 30,
      "outputs": []
    },
    {
      "cell_type": "code",
      "source": [
        "# Define the dictionary\n",
        "person = {'name': 'John', 'age': 25}\n",
        "\n",
        "# Add a new key-value pair\n",
        "person['country'] = 'USA'\n",
        "\n",
        "# Print the updated dictionary\n",
        "print(person)"
      ],
      "metadata": {
        "colab": {
          "base_uri": "https://localhost:8080/"
        },
        "id": "PTq7Pz1YKwPi",
        "outputId": "d226c4fa-608e-42b3-b773-72f736155d6b"
      },
      "execution_count": 31,
      "outputs": [
        {
          "output_type": "stream",
          "name": "stdout",
          "text": [
            "{'name': 'John', 'age': 25, 'country': 'USA'}\n"
          ]
        }
      ]
    },
    {
      "cell_type": "code",
      "source": [
        "#23)  Write a code to access the value associated with the key \"name\" in the dictionary {'name': 'Alice', 'age': 30}."
      ],
      "metadata": {
        "id": "WWxprD8dK1Y1"
      },
      "execution_count": 32,
      "outputs": []
    },
    {
      "cell_type": "code",
      "source": [
        "# Define the dictionary\n",
        "person = {'name': 'Alice', 'age': 30}\n",
        "\n",
        "# Access the value using the key\n",
        "name_value = person['name']  # Method 1\n",
        "# OR using get() method\n",
        "# name_value = person.get('name')  # Method 2 (avoids KeyError)\n",
        "\n",
        "# Print the result\n",
        "print(name_value)"
      ],
      "metadata": {
        "colab": {
          "base_uri": "https://localhost:8080/"
        },
        "id": "FI2wpPl0K48u",
        "outputId": "9b5ea835-e7c6-4f67-cca6-47d1e404af71"
      },
      "execution_count": 33,
      "outputs": [
        {
          "output_type": "stream",
          "name": "stdout",
          "text": [
            "Alice\n"
          ]
        }
      ]
    },
    {
      "cell_type": "code",
      "source": [
        "#24) Write a code to remove the key \"age\" from the dictionary {'name': 'Bob', 'age': 22, 'city': 'New York'}."
      ],
      "metadata": {
        "id": "cb8Z2mbKK9g2"
      },
      "execution_count": 34,
      "outputs": []
    },
    {
      "cell_type": "code",
      "source": [
        "# Define the dictionary\n",
        "person = {'name': 'Bob', 'age': 22, 'city': 'New York'}\n",
        "\n",
        "# Remove the key \"age\" using del\n",
        "del person['age']\n",
        "\n",
        "# Print the updated dictionary\n",
        "print(person)"
      ],
      "metadata": {
        "colab": {
          "base_uri": "https://localhost:8080/"
        },
        "id": "tk-V0mUcLCC7",
        "outputId": "93509759-9a7e-4756-8d53-f3ca3322b1ec"
      },
      "execution_count": 35,
      "outputs": [
        {
          "output_type": "stream",
          "name": "stdout",
          "text": [
            "{'name': 'Bob', 'city': 'New York'}\n"
          ]
        }
      ]
    },
    {
      "cell_type": "code",
      "source": [
        "#25) Write a code to check if the key \"city\" exists in the dictionary {'name': 'Alice', 'city': 'Paris'}."
      ],
      "metadata": {
        "id": "MhrlHDl7LGxP"
      },
      "execution_count": 36,
      "outputs": []
    },
    {
      "cell_type": "code",
      "source": [
        "# Define the dictionary\n",
        "person = {'name': 'Alice', 'city': 'Paris'}\n",
        "\n",
        "# Check if \"city\" exists in the dictionary\n",
        "if 'city' in person:\n",
        "    print(\"Key 'city' exists in the dictionary.\")\n",
        "else:\n",
        "    print(\"Key 'city' does not exist in the dictionary.\")"
      ],
      "metadata": {
        "colab": {
          "base_uri": "https://localhost:8080/"
        },
        "id": "JMH-KFQxLKef",
        "outputId": "5f88962d-5377-4180-8358-7c5ec9e250d7"
      },
      "execution_count": 37,
      "outputs": [
        {
          "output_type": "stream",
          "name": "stdout",
          "text": [
            "Key 'city' exists in the dictionary.\n"
          ]
        }
      ]
    },
    {
      "cell_type": "code",
      "source": [
        "#26) Write a code to create a list, a tuple, and a dictionary, and print them all."
      ],
      "metadata": {
        "id": "tk7AcxrOLe9N"
      },
      "execution_count": 38,
      "outputs": []
    },
    {
      "cell_type": "code",
      "source": [
        "# Create a list\n",
        "my_list = [1, 2, 3, 4, 5]\n",
        "\n",
        "# Create a tuple\n",
        "my_tuple = ('apple', 'banana', 'cherry')\n",
        "\n",
        "# Create a dictionary\n",
        "my_dict = {'name': 'John', 'age': 30, 'city': 'New York'}\n",
        "\n",
        "# Print all of them\n",
        "print(\"List:\", my_list)\n",
        "print(\"Tuple:\", my_tuple)\n",
        "print(\"Dictionary:\", my_dict)"
      ],
      "metadata": {
        "colab": {
          "base_uri": "https://localhost:8080/"
        },
        "id": "U_xJQG9rLovw",
        "outputId": "07411fc1-23d5-448f-f1f5-81aa0a17ccf8"
      },
      "execution_count": 39,
      "outputs": [
        {
          "output_type": "stream",
          "name": "stdout",
          "text": [
            "List: [1, 2, 3, 4, 5]\n",
            "Tuple: ('apple', 'banana', 'cherry')\n",
            "Dictionary: {'name': 'John', 'age': 30, 'city': 'New York'}\n"
          ]
        }
      ]
    },
    {
      "cell_type": "code",
      "source": [
        "#27) Write a code to create a list of 5 random numbers between 1 and 100, sort it in ascending order, and print the result.(replaced)"
      ],
      "metadata": {
        "id": "ucQi-ZxULw6K"
      },
      "execution_count": 40,
      "outputs": []
    },
    {
      "cell_type": "code",
      "source": [
        "import random\n",
        "\n",
        "# Create a list of 5 random numbers between 1 and 100\n",
        "random_numbers = [random.randint(1, 100) for _ in range(5)]\n",
        "\n",
        "# Sort the list in ascending order\n",
        "random_numbers.sort()\n",
        "\n",
        "# Print the sorted list\n",
        "print(\"Sorted list of random numbers:\", random_numbers)"
      ],
      "metadata": {
        "colab": {
          "base_uri": "https://localhost:8080/"
        },
        "id": "-4mMDqd3MKz2",
        "outputId": "78f5fafe-b27c-4e7f-a0ad-63974d3d50f4"
      },
      "execution_count": 41,
      "outputs": [
        {
          "output_type": "stream",
          "name": "stdout",
          "text": [
            "Sorted list of random numbers: [12, 23, 41, 58, 100]\n"
          ]
        }
      ]
    },
    {
      "cell_type": "code",
      "source": [
        "#28) Write a code to create a list with strings and print the element at the third index."
      ],
      "metadata": {
        "id": "PbBm3zk5MUxA"
      },
      "execution_count": 42,
      "outputs": []
    },
    {
      "cell_type": "code",
      "source": [
        "# Create a list with strings\n",
        "my_list = [\"apple\", \"banana\", \"cherry\", \"date\", \"elderberry\"]\n",
        "\n",
        "# Access and print the element at the third index\n",
        "print(my_list[3])"
      ],
      "metadata": {
        "colab": {
          "base_uri": "https://localhost:8080/"
        },
        "id": "1Qj_BA7DMfHu",
        "outputId": "dd465322-27e5-429d-9ac8-82ff1a2bfb5f"
      },
      "execution_count": 43,
      "outputs": [
        {
          "output_type": "stream",
          "name": "stdout",
          "text": [
            "date\n"
          ]
        }
      ]
    },
    {
      "cell_type": "code",
      "source": [
        "#29) Write a code to combine two dictionaries into one and print the result."
      ],
      "metadata": {
        "id": "HDigEanqMq45"
      },
      "execution_count": 44,
      "outputs": []
    },
    {
      "cell_type": "code",
      "source": [
        "# Define two dictionaries\n",
        "dict1 = {'name': 'Alice', 'age': 25}\n",
        "dict2 = {'city': 'Paris', 'country': 'France'}\n",
        "\n",
        "# Combine the dictionaries\n",
        "combined_dict = {**dict1, **dict2}\n",
        "\n",
        "# Print the combined dictionary\n",
        "print(combined_dict)"
      ],
      "metadata": {
        "colab": {
          "base_uri": "https://localhost:8080/"
        },
        "id": "hLfwKymEMxO5",
        "outputId": "c4ca61ea-5360-47d6-ed23-548f20bf5e3f"
      },
      "execution_count": 45,
      "outputs": [
        {
          "output_type": "stream",
          "name": "stdout",
          "text": [
            "{'name': 'Alice', 'age': 25, 'city': 'Paris', 'country': 'France'}\n"
          ]
        }
      ]
    },
    {
      "cell_type": "code",
      "source": [
        "#30)  Write a code to convert a list of strings into a set."
      ],
      "metadata": {
        "id": "oZO37Xe8M3jW"
      },
      "execution_count": 46,
      "outputs": []
    },
    {
      "cell_type": "code",
      "source": [
        "# Create a list of strings\n",
        "string_list = [\"apple\", \"banana\", \"cherry\", \"apple\", \"banana\"]\n",
        "\n",
        "# Convert the list to a set\n",
        "string_set = set(string_list)\n",
        "\n",
        "# Print the set\n",
        "print(string_set)"
      ],
      "metadata": {
        "colab": {
          "base_uri": "https://localhost:8080/"
        },
        "id": "I75PLXyzNBUp",
        "outputId": "afd8fbff-f7d8-4dfb-e4fb-28125df07229"
      },
      "execution_count": 47,
      "outputs": [
        {
          "output_type": "stream",
          "name": "stdout",
          "text": [
            "{'cherry', 'banana', 'apple'}\n"
          ]
        }
      ]
    },
    {
      "cell_type": "code",
      "source": [],
      "metadata": {
        "id": "oFrp9N0YNGOn"
      },
      "execution_count": null,
      "outputs": []
    }
  ]
}